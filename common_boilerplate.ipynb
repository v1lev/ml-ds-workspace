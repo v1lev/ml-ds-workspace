{
 "cells": [
  {
   "cell_type": "code",
   "execution_count": null,
   "id": "8e1e9185-f896-43f2-9bfb-ef221a91c0f6",
   "metadata": {},
   "outputs": [],
   "source": [
    "import numpy as np\n",
    "import pandas as pd\n",
    "import matplotlib as mpl\n",
    "from matplotlib import pyplot as plt\n",
    "import seaborn as sns\n",
    "from sklearnex import patch_sklearn\n",
    "import gc\n",
    "\n",
    "patch_sklearn()\n",
    "\n",
    "\n",
    "%matplotlib inline\n",
    "%load_ext autoreload\n",
    "%autoreload 2\n",
    "%load_ext lab_black\n",
    "%load_ext watermark\n",
    "\n",
    "sns.set()\n",
    "\n",
    "%watermark -v -m -p numpy,scipy,pandas,matplotlib,statsmodels,sklearn,catboost,xgboost,lightgbm -g"
   ]
  },
  {
   "cell_type": "code",
   "execution_count": null,
   "id": "de6b368f-33e9-446e-9086-c91de726e486",
   "metadata": {},
   "outputs": [],
   "source": [
    "def greedy_downcast(df, show_progress=False):\n",
    "    \"\"\"\n",
    "    for sparse data use something like that\n",
    "    df[feature] = df[feature].astype(pd.SparseDtype(np.dtype(\"int8\"), 0))\n",
    "    \"\"\"\n",
    "    types = df.dtypes\n",
    "    \n",
    "    iter_ = types.iteritems()\n",
    "    if show_progress:\n",
    "        iter_ = tqdm(iter_, total=len(types))\n",
    "        \n",
    "    for col, dtype in iter_:\n",
    "        name = dtype.name\n",
    "\n",
    "        if name.startswith(\"float\"):\n",
    "            downcast = \"float\"\n",
    "        elif name.startswith(\"int\"):\n",
    "            downcast = \"integer\"\n",
    "        else:\n",
    "            continue\n",
    "\n",
    "        df[col] = pd.to_numeric(df[col], downcast=downcast)"
   ]
  },
  {
   "cell_type": "code",
   "execution_count": null,
   "id": "36a241a6-5c5c-46dc-ae21-21320ae3f199",
   "metadata": {},
   "outputs": [],
   "source": []
  },
  {
   "cell_type": "code",
   "execution_count": null,
   "id": "76b6e62d-5e8d-42e3-babc-b2df41adf610",
   "metadata": {},
   "outputs": [],
   "source": [
    "from tensorflow.config.experimental import list_physical_devices\n",
    "\n",
    "\n",
    "print(\"Num GPUs Available: \", len(list_physical_devices(\"GPU\")))"
   ]
  }
 ],
 "metadata": {
  "kernelspec": {
   "display_name": "Python 3 (ipykernel)",
   "language": "python",
   "name": "python3"
  },
  "language_info": {
   "codemirror_mode": {
    "name": "ipython",
    "version": 3
   },
   "file_extension": ".py",
   "mimetype": "text/x-python",
   "name": "python",
   "nbconvert_exporter": "python",
   "pygments_lexer": "ipython3",
   "version": "3.8.11"
  }
 },
 "nbformat": 4,
 "nbformat_minor": 5
}
