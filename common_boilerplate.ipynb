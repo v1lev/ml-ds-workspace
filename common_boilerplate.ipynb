{
 "cells": [
  {
   "cell_type": "code",
   "execution_count": null,
   "id": "8e1e9185-f896-43f2-9bfb-ef221a91c0f6",
   "metadata": {},
   "outputs": [],
   "source": [
    "import numpy as np\n",
    "import pandas as pd\n",
    "import matplotlib as mpl\n",
    "from matplotlib import pyplot as plt\n",
    "import seaborn as sns\n",
    "from sklearnex import patch_sklearn\n",
    "\n",
    "patch_sklearn()\n",
    "\n",
    "\n",
    "%matplotlib inline\n",
    "%load_ext autoreload\n",
    "%autoreload 2\n",
    "%load_ext lab_black\n",
    "%load_ext watermark\n",
    "\n",
    "sns.set()\n",
    "\n",
    "%watermark -v -m -p numpy,scipy,pandas,matplotlib,statsmodels,sklearn,catboost,xgboost,lightgbm -g"
   ]
  },
  {
   "cell_type": "code",
   "execution_count": null,
   "id": "de6b368f-33e9-446e-9086-c91de726e486",
   "metadata": {},
   "outputs": [],
   "source": [
    "def downcast_numeric(df):\n",
    "    for d_type in [\"float\", \"integer\"]:\n",
    "        cols = df.select_dtypes(d_type).columns\n",
    "        df[cols] = df[cols].apply(pd.to_numeric, downcast=d_type)\n"
   ]
  }
 ],
 "metadata": {
  "kernelspec": {
   "display_name": "Python 3",
   "language": "python",
   "name": "python3"
  },
  "language_info": {
   "codemirror_mode": {
    "name": "ipython",
    "version": 3
   },
   "file_extension": ".py",
   "mimetype": "text/x-python",
   "name": "python",
   "nbconvert_exporter": "python",
   "pygments_lexer": "ipython3",
   "version": "3.8.8"
  }
 },
 "nbformat": 4,
 "nbformat_minor": 5
}
